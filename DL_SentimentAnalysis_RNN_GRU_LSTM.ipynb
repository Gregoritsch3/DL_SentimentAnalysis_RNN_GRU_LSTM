{
 "cells": [
  {
   "cell_type": "markdown",
   "id": "c047f077",
   "metadata": {},
   "source": [
    "# Deep Learning - Sentiment Analysis"
   ]
  },
  {
   "cell_type": "markdown",
   "id": "a1c8dd57",
   "metadata": {},
   "source": [
    "This project seeks to compare several Sequential Deep Learning Architectures on the task of Sentiment Analysis. More precisely, we use the\n",
    "\n",
    "- Recurrent Neural Network (RNN) with simple units,\n",
    "- RNN with Gated Recurrent Units (GRUs)\n",
    "- RNN with Long Short Term Memory Units (LSTMs)\n",
    "\n",
    "architectures to classify an input *sequence* of text as either *positive* or *negative*.\n",
    "\n",
    "The dataset we will be working with is the IMDB movie review dataset integrated into the `tensorflow.datasets` library."
   ]
  },
  {
   "cell_type": "code",
   "execution_count": 5,
   "id": "a5e94289",
   "metadata": {},
   "outputs": [
    {
     "ename": "ModuleNotFoundError",
     "evalue": "No module named 'tensorflow'",
     "output_type": "error",
     "traceback": [
      "\u001b[1;31m---------------------------------------------------------------------------\u001b[0m",
      "\u001b[1;31mModuleNotFoundError\u001b[0m                       Traceback (most recent call last)",
      "Cell \u001b[1;32mIn[5], line 2\u001b[0m\n\u001b[0;32m      1\u001b[0m \u001b[38;5;66;03m#Importing libraries\u001b[39;00m\n\u001b[1;32m----> 2\u001b[0m \u001b[38;5;28;01mfrom\u001b[39;00m \u001b[38;5;21;01mtensorflow\u001b[39;00m\u001b[38;5;21;01m.\u001b[39;00m\u001b[38;5;21;01mkeras\u001b[39;00m\u001b[38;5;21;01m.\u001b[39;00m\u001b[38;5;21;01mdatasets\u001b[39;00m \u001b[38;5;28;01mimport\u001b[39;00m imdb\n",
      "\u001b[1;31mModuleNotFoundError\u001b[0m: No module named 'tensorflow'"
     ]
    }
   ],
   "source": [
    "#Importing libraries\n",
    "from tensorflow.keras.datasets import imdb"
   ]
  },
  {
   "cell_type": "code",
   "execution_count": null,
   "id": "fa371e1d",
   "metadata": {},
   "outputs": [],
   "source": [
    "#Loading data"
   ]
  },
  {
   "cell_type": "code",
   "execution_count": null,
   "id": "ab2da7e8",
   "metadata": {},
   "outputs": [],
   "source": [
    "#Preprocessing data"
   ]
  },
  {
   "cell_type": "markdown",
   "id": "f2f7c07a",
   "metadata": {},
   "source": [
    "## Simple Recurrent Neural Network"
   ]
  },
  {
   "cell_type": "markdown",
   "id": "57ac75e8",
   "metadata": {},
   "source": [
    "## GRU Recurrent Neural Network"
   ]
  },
  {
   "cell_type": "markdown",
   "id": "22015e88",
   "metadata": {},
   "source": [
    "## LSTM Recurrent Neural Network"
   ]
  },
  {
   "cell_type": "code",
   "execution_count": null,
   "id": "1f439b31",
   "metadata": {},
   "outputs": [],
   "source": []
  }
 ],
 "metadata": {
  "kernelspec": {
   "display_name": "base",
   "language": "python",
   "name": "python3"
  },
  "language_info": {
   "codemirror_mode": {
    "name": "ipython",
    "version": 3
   },
   "file_extension": ".py",
   "mimetype": "text/x-python",
   "name": "python",
   "nbconvert_exporter": "python",
   "pygments_lexer": "ipython3",
   "version": "3.12.3"
  }
 },
 "nbformat": 4,
 "nbformat_minor": 5
}
